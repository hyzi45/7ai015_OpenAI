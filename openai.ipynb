{
 "cells": [
  {
   "cell_type": "markdown",
   "id": "2a83fcdc",
   "metadata": {},
   "source": [
    "## RestAPI 백업"
   ]
  },
  {
   "cell_type": "code",
   "execution_count": null,
   "id": "35381311",
   "metadata": {},
   "outputs": [],
   "source": [
    "payload=\"{\\\"messages\\\":[{\\\"role\\\":\\\"system\\\",\\\"content\\\":[{\\\"type\\\":\\\"text\\\",\\\"text\\\":\\\"너는 여행 전문가야. 사용자의 질문에 여행 가이드처럼 답변해주고, 액티비티나 맛집 위주로 추천해줘. 그리고 MBTI를 고려해서 여행 계획을 짜줬으면 좋겠어. 여행 성향은 기존의 MBTI랑 다를 수 있으니사용자의 성향을 잘 파악하고 참고해줘 \\\"}]},{\\\"role\\\":\\\"user\\\",\\\"content\\\":[{\\\"type\\\":\\\"text\\\",\\\"text\\\":\\\"일본 맛집에 대해 추천해줘.\\\"}]},{\\\"role\\\":\\\"assistant\\\",\\\"content\\\":[{\\\"type\\\":\\\"text\\\",\\\"text\\\":\\\"이치란 라멘은 한국인들이 많이 찾는 음식 중 하나입니다.\\\\n일본의 대표적인 면 요리로, 진하고 깊은 국물 맛이 매력적입니다. 특히 돈코츠(돼지 뼈) 라멘이나 쇼유(간장) 라멘이 많은 사랑을 받고 있습니다.\\\"}]},{\\\"role\\\":\\\"user\\\",\\\"content\\\":[{\\\"type\\\":\\\"text\\\",\\\"text\\\":\\\"일본 여행 계획을 세워줘 \\\"}]},{\\\"role\\\":\\\"assistant\\\",\\\"content\\\":[{\\\"type\\\":\\\"text\\\",\\\"text\\\":\\\"여행 계획을 세우기 위해서는 사용자의 MBTI 성향을 고려해볼 필요가 있습니다. 예를 들어, 외향적인 성향(E)이라면 사람들과의 교류를 즐기고, 내향적인 성향(I)이라면 조용한 장소에서의 시간을 선호할 수 있습니다. \\\\n\\\\n여기서는 ENFP 성향을 가진 분을 위한 일본 여행 계획을 제안해 드리겠습니다. ENFP는 모험을 즐기고 새로운 경험을 찾는 경향이 강하므로, 다양한 액티비티와 맛집을 포함하였습니다.\\\\n\\\\n### 일본 여행 계획 (7일)\\\\n\\\\n**1일차: 도쿄 도착**\\\\n- **오전:** 도쿄에 도착 후 호텔 체크인\\\\n- **점심:** '이치란 라멘'에서 유명한 돈코츠 라멘 즐기기\\\\n- **오후:** 시부야 스크램블 교차로 및 하치코 동상 방문\\\\n- **저녁:** '하라주쿠'에서 스트리트 푸드 탐방 (타코야끼, 크레페 등)\\\\n\\\\n**2일차: 도쿄 탐방**\\\\n- **오전:** 아사쿠사의 센소지 사원 방문 후 나카미세 거리에서 기념품 쇼핑\\\\n- **점심:** '우에노'의 '우동' 맛집에서 우동 한 그릇\\\\n- **오후:** '오다이바'에서 팀랩 보더리스 전시 관람\\\\n- **저녁:** '스시 다이'에서 신선한 초밥으로 저녁식사\\\\n\\\\n**3일차: 도쿄 → 교토 이동**\\\\n- **오전:** 신칸센으로 교토 이동\\\\n- **점심:** '교토의 전통 카이세키 요리'를 경험할 수 있는 레스토랑 예약\\\\n- **오후:** 기온 거리 탐방 및 전통 찻집 방문\\\\n- **저녁:** '야사카 신사' 근처의 이자카야에서 일본식 저녁\\\\n\\\\n**4일차: 교토 탐방**\\\\n- **오전:** 아라시야마 대나무 숲과 토게츠교 방문\\\\n- **점심:** '교토의 유부초밥'을 맛볼 수 있는 레스토랑\\\\n- **오후:** 킨카쿠지(금각사) 방문\\\\n- **저녁:** '교토의 오코노미야키' 맛집에서 저녁\\\\n\\\\n**5일차: 교토 → 오사카 이동**\\\\n- **오전:** 오사카로 이동 후, '도톤보리' 탐방\\\\n- **점심:** '다코야끼'와 '오코노미야키'를 도톤보리에서 즐기기\\\\n- **오후:** 신세카이 지역 탐방 및 츠텐카쿠 타워 관람\\\\n- **저녁:** '이자카야'에서 다양한 일본식 안주와 함께 술 한 잔\\\\n\\\\n**6일차: 오사카 탐방**\\\\n- **오전:** 오사카 성 방문\\\\n- **점심:** '우동' 맛집에서 점심\\\\n- **오후:** 유니버설 스튜디오 재팬에서 하루 종일 즐기기\\\\n- **저녁:** '신사이바시'의 맛집 탐방\\\\n\\\\n**7일차: 귀국**\\\\n- **오전:** 마지막으로 쇼핑 및 기념품 구매\\\\n- **점심:** 공항 근처의 맛집에서 마지막 일본식 점심\\\\n- **오후:** 귀국 비행기 탑승\\\\n\\\\n이 계획은 ENFP 성향을 고려하여 다양한 액\\\"}]}],\\\"temperature\\\":0.5,\\\"top_p\\\":0.95,\\\"max_tokens\\\":800}\"\n",
    "   curl \"https://7ai015-openai.openai.azure.com/openai/deployments/7ai015-gpt-4o-mini/chat/completions?api-version=2025-01-01-preview\" \\\n",
    "  -H \"Content-Type: application/json\" \\\n",
    "  -H \"api-key: YOUR_API_KEY\" \\\n",
    "  -d \"$payload\""
   ]
  },
  {
   "cell_type": "markdown",
   "id": "3bcfbd9a",
   "metadata": {},
   "source": [
    "## Python SDK 백업"
   ]
  },
  {
   "cell_type": "code",
   "execution_count": null,
   "id": "3e190ea0",
   "metadata": {},
   "outputs": [],
   "source": [
    "\n",
    "import os\n",
    "import base64\n",
    "from openai import AzureOpenAI\n",
    "\n",
    "endpoint = os.getenv(\"ENDPOINT_URL\", \"https://7ai015-openai.openai.azure.com/\")\n",
    "deployment = os.getenv(\"DEPLOYMENT_NAME\", \"7ai015-gpt-4o-mini\")\n",
    "subscription_key = os.getenv(\"AZURE_OPENAI_API_KEY\", \"REPLACE_WITH_YOUR_KEY_VALUE_HERE\")\n",
    "\n",
    "# 키 기반 인증을 사용하여 Azure OpenAI 클라이언트 초기화\n",
    "client = AzureOpenAI(\n",
    "    azure_endpoint=endpoint,\n",
    "    api_key=subscription_key,\n",
    "    api_version=\"2025-01-01-preview\",\n",
    ")\n",
    "\n",
    "# IMAGE_PATH = \"YOUR_IMAGE_PATH\"\n",
    "# encoded_image = base64.b64encode(open(IMAGE_PATH, 'rb').read()).decode('ascii')\n",
    "\n",
    "#채팅 프롬프트 준비\n",
    "chat_prompt = [\n",
    "    {\n",
    "        \"role\": \"system\",\n",
    "        \"content\": [\n",
    "            {\n",
    "                \"type\": \"text\",\n",
    "                \"text\": \"너는 여행 전문가야. 사용자의 질문에 여행 가이드처럼 답변해주고, 액티비티나 맛집 위주로 추천해줘. 그리고 MBTI를 고려해서 여행 계획을 짜줬으면 좋겠어. 여행 성향은 기존의 MBTI랑 다를 수 있으니사용자의 성향을 잘 파악하고 참고해줘 \"\n",
    "            }\n",
    "        ]\n",
    "    },\n",
    "    {\n",
    "        \"role\": \"user\",\n",
    "        \"content\": [\n",
    "            {\n",
    "                \"type\": \"text\",\n",
    "                \"text\": \"일본 맛집에 대해 추천해줘.\"\n",
    "            }\n",
    "        ]\n",
    "    },\n",
    "    {\n",
    "        \"role\": \"assistant\",\n",
    "        \"content\": [\n",
    "            {\n",
    "                \"type\": \"text\",\n",
    "                \"text\": \"이치란 라멘은 한국인들이 많이 찾는 음식 중 하나입니다.\\n일본의 대표적인 면 요리로, 진하고 깊은 국물 맛이 매력적입니다. 특히 돈코츠(돼지 뼈) 라멘이나 쇼유(간장) 라멘이 많은 사랑을 받고 있습니다.\"\n",
    "            }\n",
    "        ]\n",
    "    },\n",
    "    {\n",
    "        \"role\": \"user\",\n",
    "        \"content\": [\n",
    "            {\n",
    "                \"type\": \"text\",\n",
    "                \"text\": \"일본 여행 계획을 세워줘 \"\n",
    "            }\n",
    "        ]\n",
    "    },\n",
    "    {\n",
    "        \"role\": \"assistant\",\n",
    "        \"content\": [\n",
    "            {\n",
    "                \"type\": \"text\",\n",
    "                \"text\": \"여행 계획을 세우기 위해서는 사용자의 MBTI 성향을 고려해볼 필요가 있습니다. 예를 들어, 외향적인 성향(E)이라면 사람들과의 교류를 즐기고, 내향적인 성향(I)이라면 조용한 장소에서의 시간을 선호할 수 있습니다. \\n\\n여기서는 ENFP 성향을 가진 분을 위한 일본 여행 계획을 제안해 드리겠습니다. ENFP는 모험을 즐기고 새로운 경험을 찾는 경향이 강하므로, 다양한 액티비티와 맛집을 포함하였습니다.\\n\\n### 일본 여행 계획 (7일)\\n\\n**1일차: 도쿄 도착**\\n- **오전:** 도쿄에 도착 후 호텔 체크인\\n- **점심:** '이치란 라멘'에서 유명한 돈코츠 라멘 즐기기\\n- **오후:** 시부야 스크램블 교차로 및 하치코 동상 방문\\n- **저녁:** '하라주쿠'에서 스트리트 푸드 탐방 (타코야끼, 크레페 등)\\n\\n**2일차: 도쿄 탐방**\\n- **오전:** 아사쿠사의 센소지 사원 방문 후 나카미세 거리에서 기념품 쇼핑\\n- **점심:** '우에노'의 '우동' 맛집에서 우동 한 그릇\\n- **오후:** '오다이바'에서 팀랩 보더리스 전시 관람\\n- **저녁:** '스시 다이'에서 신선한 초밥으로 저녁식사\\n\\n**3일차: 도쿄 → 교토 이동**\\n- **오전:** 신칸센으로 교토 이동\\n- **점심:** '교토의 전통 카이세키 요리'를 경험할 수 있는 레스토랑 예약\\n- **오후:** 기온 거리 탐방 및 전통 찻집 방문\\n- **저녁:** '야사카 신사' 근처의 이자카야에서 일본식 저녁\\n\\n**4일차: 교토 탐방**\\n- **오전:** 아라시야마 대나무 숲과 토게츠교 방문\\n- **점심:** '교토의 유부초밥'을 맛볼 수 있는 레스토랑\\n- **오후:** 킨카쿠지(금각사) 방문\\n- **저녁:** '교토의 오코노미야키' 맛집에서 저녁\\n\\n**5일차: 교토 → 오사카 이동**\\n- **오전:** 오사카로 이동 후, '도톤보리' 탐방\\n- **점심:** '다코야끼'와 '오코노미야키'를 도톤보리에서 즐기기\\n- **오후:** 신세카이 지역 탐방 및 츠텐카쿠 타워 관람\\n- **저녁:** '이자카야'에서 다양한 일본식 안주와 함께 술 한 잔\\n\\n**6일차: 오사카 탐방**\\n- **오전:** 오사카 성 방문\\n- **점심:** '우동' 맛집에서 점심\\n- **오후:** 유니버설 스튜디오 재팬에서 하루 종일 즐기기\\n- **저녁:** '신사이바시'의 맛집 탐방\\n\\n**7일차: 귀국**\\n- **오전:** 마지막으로 쇼핑 및 기념품 구매\\n- **점심:** 공항 근처의 맛집에서 마지막 일본식 점심\\n- **오후:** 귀국 비행기 탑승\\n\\n이 계획은 ENFP 성향을 고려하여 다양한 액\"\n",
    "            }\n",
    "        ]\n",
    "    }\n",
    "]\n",
    "\n",
    "# 음성이 사용되는 경우 음성 결과 포함\n",
    "messages = chat_prompt\n",
    "\n",
    "# 완료 생성\n",
    "completion = client.chat.completions.create(\n",
    "    model=deployment,\n",
    "    messages=messages,\n",
    "    max_tokens=800,\n",
    "    temperature=0.5,\n",
    "    top_p=0.95,\n",
    "    frequency_penalty=0,\n",
    "    presence_penalty=0,\n",
    "    stop=None,\n",
    "    stream=False\n",
    ")\n",
    "\n",
    "print(completion.to_json())\n",
    "    "
   ]
  },
  {
   "cell_type": "markdown",
   "id": "c5af23a6",
   "metadata": {},
   "source": [
    "## RestAPI 방식"
   ]
  },
  {
   "cell_type": "code",
   "execution_count": null,
   "id": "e01262f2",
   "metadata": {},
   "outputs": [],
   "source": [
    "payload=\"{\\\"messages\\\":[],\\\"temperature\\\":0.8,\\\"top_p\\\":0.95,\\\"max_tokens\\\":800}\"\n",
    "   curl \"https://7ai015-openai.openai.azure.com/openai/deployments/7ai015-gpt-4o-mini/chat/completions?api-version=2025-01-01-preview\" \\\n",
    "  -H \"Content-Type: application/json\" \\\n",
    "  -H \"api-key: YOUR_API_KEY\" \\\n",
    "  -d \"$payload\""
   ]
  },
  {
   "cell_type": "code",
   "execution_count": 3,
   "id": "7d083bae",
   "metadata": {},
   "outputs": [],
   "source": [
    "oai_endpoint = 'https://7ai015-openai.openai.azure.com/openai/deployments/7ai015-gpt-4o-mini/chat/completions?api-version=2025-01-01-preview'\n",
    "oai_apikey = '937jKABfHgomOxXzVz4q7cxqEFwjMqrZ1HxIr4nUs4SfYQqD2SQrJQQJ99BFACfhMk5XJ3w3AAABACOG8ETF'"
   ]
  },
  {
   "cell_type": "code",
   "execution_count": null,
   "id": "fc70ce9c",
   "metadata": {},
   "outputs": [],
   "source": [
    "import requests\n",
    "\n",
    "def requests_input(prompt, temp=0.8, top_p=0.95, max_tokens=800):\n",
    "  endpoint = oai_endpoint\n",
    "\n",
    "  headers = {\n",
    "    \"Content-Typ\": \"application/json\",\n",
    "    \"api-key\": oai_apikey\n",
    "  }\n",
    "\n",
    "  payload = {\n",
    "    \"messages\": [\n",
    "      {\n",
    "          \"role\": \"system\",\n",
    "          \"content\": \"너는 여행 전문가야. 사용자의 질문에 여행 가이드처럼 답변해주고, 반말로 해줘. 그리고, 액티비티나 맛집 위주로 추천해줘. 만약, 나라를 말하고 여행 계획을 세워달라 하면 최대 2개의 도시까지만 추천해줘.\"\n",
    "      },\n",
    "      {\n",
    "          \"role\": \"user\",\n",
    "          \"content\": \"일본 여행을 가고 싶어.\"\n",
    "      },\n",
    "      {\n",
    "          \"role\": \"assistant\",\n",
    "          \"content\": \"먼저, 도쿄 (Tokyo)를 추천해줄게! 일본의 수도로 현대와 전통이 공존하는 도시이고 다양한 쇼핑 지역, 맛집, 문화 시설이 있어. 주요 관광지는 도쿄타워가 있고, 맛집에는 스시다이, 이치란 라멘집이 있어! \\n 두 번째로 추천하는 도시는 오사카 (Osaka)야! 일본의 식도락 도시로 알려져 있으며, 활기찬 분위기와 다양한 요리가 매력이거든. 주요 관광지는 도톤보리(유명한 음식 거리), 유니버설 스튜디오 일본이 있고, 맛집에는 타코야키 쿠시카츠 다루마 (Daruma)가 있어.\"\n",
    "      },\n",
    "      {\n",
    "          \"role\": \"user\",\n",
    "          \"content\": \"스페인 세비야 여행 계획을 세워줘.\"\n",
    "      },\n",
    "      {\n",
    "          \"role\": \"assistant\",\n",
    "          \"content\": \"1일차에는 세비야 도착 및 주요 명소 탐방해보는 건 어때? 오전에 숙소 체크인을 하고 점심을 바르 엘 푸에르토가서 타파스를 즐겨보는 거야! 오후에는 세비야 대성당과 히랄다 탑을 올라가서 세비야 전경을 감상해봐! 그리고 타파스 바에서 저녁을 먹고 플라자 데 에스파냐에서 야경을 즐겨보는 걸로 마무리 하는 거지.\"\n",
    "      },\n",
    "      {\n",
    "        \"role\": \"user\",\n",
    "        \"content\": [\n",
    "          {\n",
    "            \"type\": \"text\",\n",
    "            \"text\": prompt\n",
    "          }\n",
    "        ]\n",
    "      }\n",
    "    ],\n",
    "    \"temperature\": temp, # 0.8\n",
    "    \"top_p\": top_p, # 0.95\n",
    "    \"max_tokens\": max_tokens #800\n",
    "  }\n",
    "\n",
    "  response = requests.post(endpoint, headers=headers, json=payload)\n",
    "\n",
    "  if response.status_code == 200:\n",
    "    request_result = response.json()['choices'][0]['message']['content']\n",
    "  else:\n",
    "      request_result = 'requests Failed'\n",
    "\n",
    "  return request_result"
   ]
  },
  {
   "cell_type": "code",
   "execution_count": 58,
   "id": "0c4760a6",
   "metadata": {},
   "outputs": [
    {
     "data": {
      "text/plain": [
       "'물론이죠! 일본 여행을 계획 중이시라면, 도쿄와 교토를 중심으로 맛집을 추천해드릴게요. MBTI 성향에 따라 여행 스타일이 다를 수 있지만, 다양한 경험을 즐기는 것을 좋아하신다면 아래의 추천을 참고해보세요!\\n\\n### 도쿄\\n\\n1. **스시 다이 (Sushi Dai)**\\n   - **특징:** 츠키지 시장 근처에 위치한 신선한 스시집으로, 대기할 가치가 있는 맛을 자랑합니다. 스시 애호가라면 꼭 방문해보세요!\\n\\n2. **이치란 라멘 (Ichiran Ramen)**\\n   - **특징:** 개인 부스에서 집중해서 즐길 수 있는 라멘. 육수와 면의 조합을 자유롭게 선택할 수 있어 다양한 맛을 경험할 수 있습니다.\\n\\n3. **멘타이코 (Mentaiko) 전문점 - 하카타 이치반 (Hakata Ichiban)**\\n   - **특징:** 매운 명란젓을 기반으로 한 요리를 즐길 수 있는 곳. 다양한 요리와 함께 독특한 맛을 경험할 수 있습니다.\\n\\n### 교토\\n\\n1. **기온 (Gion) 지역의 다이닝 - 기온 스자카 (Gion Suzakaya)**\\n   - **특징:** 전통적인 교토 요리인 가이세키를 제공하며, 아름다운 일본 정원을 감상할 수 있는 곳입니다. 조용한 분위기에서 정통 일본 음식을 즐기기에 좋습니다.\\n\\n2. **우동 전문점 - 이토 우동 (Ito Udon)**\\n   - **특징:** 직접 만든 면과 진한 육수를 사용한 우동이 인기. 따뜻한 분위기에서 편안하게 식사를 즐길 수 있습니다.\\n\\n3. **제철 재료로 만든 스시 - 스시 사도 (Sushi Sado)**\\n   - **특징:** 신선한 재료로 만든 스시를 전문으로 하는 곳으로, 계절에 맞춘 메뉴가 매력적입니다. 소규모로 운영되어 아늑한 느낌입니다.\\n\\n이 외에도 일본에는 정말 다양한 맛집들이 많으니, 여행 일정에 맞춰 미리 예약해두시면 더욱 좋습니다. 식사 외에도 일본의 전통문화나 액티비티도 함께 즐겨보세요! 여행 중 행복한 순간들이 가득하시길 바랍니다!'"
      ]
     },
     "execution_count": 58,
     "metadata": {},
     "output_type": "execute_result"
    }
   ],
   "source": [
    "requests_input('일본 여행 계획을 세우려고 하는데 맛집 좀 추천해줄래?')"
   ]
  },
  {
   "cell_type": "code",
   "execution_count": 52,
   "id": "6037875b",
   "metadata": {},
   "outputs": [
    {
     "data": {
      "text/plain": [
       "'체리(Cherry)는 장미과에 속하는 과일로, 주로 두 가지 주요 종류가 있습니다: 단체리와 신체리. 체리는 작은 크기의 과일로, 일반적으로 둥글고 부드러운 껍질을 가지고 있으며, 색깔은 빨간색, 노란색, 검은색 등 다양합니다. \\n\\n체리는 비타민 C와 항산화 물질이 풍부하여 건강에 여러 가지 이점을 제공합니다'"
      ]
     },
     "execution_count": 52,
     "metadata": {},
     "output_type": "execute_result"
    }
   ],
   "source": [
    "requests_input(\"체리에 대해 소개해줘\", 0.8, 0.95, 100)"
   ]
  },
  {
   "cell_type": "code",
   "execution_count": 12,
   "id": "1b85a0fc",
   "metadata": {},
   "outputs": [
    {
     "data": {
      "text/plain": [
       "200"
      ]
     },
     "execution_count": 12,
     "metadata": {},
     "output_type": "execute_result"
    }
   ],
   "source": [
    "response.status_code"
   ]
  },
  {
   "cell_type": "code",
   "execution_count": 13,
   "id": "ea4a713f",
   "metadata": {},
   "outputs": [
    {
     "data": {
      "text/plain": [
       "b'{\"choices\":[{\"content_filter_results\":{\"hate\":{\"filtered\":false,\"severity\":\"safe\"},\"self_harm\":{\"filtered\":false,\"severity\":\"safe\"},\"sexual\":{\"filtered\":false,\"severity\":\"safe\"},\"violence\":{\"filtered\":false,\"severity\":\"safe\"}},\"finish_reason\":\"stop\",\"index\":0,\"logprobs\":null,\"message\":{\"annotations\":[],\"content\":\"\\xec\\x95\\x88\\xeb\\x85\\x95\\xed\\x95\\x98\\xec\\x84\\xb8\\xec\\x9a\\x94! \\xec\\x96\\xb4\\xeb\\x96\\xa4 \\xec\\xa0\\x95\\xeb\\xb3\\xb4\\xeb\\xa5\\xbc \\xec\\xb0\\xbe\\xea\\xb3\\xa0 \\xea\\xb3\\x84\\xec\\x8b\\xa0\\xea\\xb0\\x80\\xec\\x9a\\x94? \\xeb\\x8f\\x84\\xec\\x9b\\x80\\xec\\x9d\\xb4 \\xed\\x95\\x84\\xec\\x9a\\x94\\xed\\x95\\x98\\xec\\x8b\\x9c\\xeb\\xa9\\xb4 \\xeb\\xa7\\x90\\xec\\x94\\x80\\xed\\x95\\xb4 \\xec\\xa3\\xbc\\xec\\x84\\xb8\\xec\\x9a\\x94.\",\"refusal\":null,\"role\":\"assistant\"}}],\"created\":1750224999,\"id\":\"chatcmpl-BjflPYDsGxP7cyAMtCloUNz81cp6a\",\"model\":\"gpt-4o-mini-2024-07-18\",\"object\":\"chat.completion\",\"prompt_filter_results\":[{\"prompt_index\":0,\"content_filter_results\":{}}],\"system_fingerprint\":\"fp_7a53abb7a2\",\"usage\":{\"completion_tokens\":21,\"completion_tokens_details\":{\"accepted_prediction_tokens\":0,\"audio_tokens\":0,\"reasoning_tokens\":0,\"rejected_prediction_tokens\":0},\"prompt_tokens\":21,\"prompt_tokens_details\":{\"audio_tokens\":0,\"cached_tokens\":0},\"total_tokens\":42}}\\n'"
      ]
     },
     "execution_count": 13,
     "metadata": {},
     "output_type": "execute_result"
    }
   ],
   "source": [
    "response.content"
   ]
  },
  {
   "cell_type": "code",
   "execution_count": 11,
   "id": "cf1fa642",
   "metadata": {},
   "outputs": [
    {
     "data": {
      "text/plain": [
       "'{\"choices\":[{\"content_filter_results\":{\"hate\":{\"filtered\":false,\"severity\":\"safe\"},\"self_harm\":{\"filtered\":false,\"severity\":\"safe\"},\"sexual\":{\"filtered\":false,\"severity\":\"safe\"},\"violence\":{\"filtered\":false,\"severity\":\"safe\"}},\"finish_reason\":\"stop\",\"index\":0,\"logprobs\":null,\"message\":{\"annotations\":[],\"content\":\"안녕하세요! 어떤 정보를 찾고 계신가요? 도움이 필요하시면 말씀해 주세요.\",\"refusal\":null,\"role\":\"assistant\"}}],\"created\":1750224999,\"id\":\"chatcmpl-BjflPYDsGxP7cyAMtCloUNz81cp6a\",\"model\":\"gpt-4o-mini-2024-07-18\",\"object\":\"chat.completion\",\"prompt_filter_results\":[{\"prompt_index\":0,\"content_filter_results\":{}}],\"system_fingerprint\":\"fp_7a53abb7a2\",\"usage\":{\"completion_tokens\":21,\"completion_tokens_details\":{\"accepted_prediction_tokens\":0,\"audio_tokens\":0,\"reasoning_tokens\":0,\"rejected_prediction_tokens\":0},\"prompt_tokens\":21,\"prompt_tokens_details\":{\"audio_tokens\":0,\"cached_tokens\":0},\"total_tokens\":42}}\\n'"
      ]
     },
     "execution_count": 11,
     "metadata": {},
     "output_type": "execute_result"
    }
   ],
   "source": [
    "response.text"
   ]
  },
  {
   "cell_type": "code",
   "execution_count": 29,
   "id": "bdfe3bc2",
   "metadata": {},
   "outputs": [
    {
     "data": {
      "text/plain": [
       "{'choices': [{'content_filter_results': {'hate': {'filtered': False,\n",
       "     'severity': 'safe'},\n",
       "    'self_harm': {'filtered': False, 'severity': 'safe'},\n",
       "    'sexual': {'filtered': False, 'severity': 'safe'},\n",
       "    'violence': {'filtered': False, 'severity': 'safe'}},\n",
       "   'finish_reason': 'stop',\n",
       "   'index': 0,\n",
       "   'logprobs': None,\n",
       "   'message': {'annotations': [],\n",
       "    'content': '안녕하세요! 어떤 정보를 찾고 계신가요? 도움이 필요하시면 말씀해 주세요.',\n",
       "    'refusal': None,\n",
       "    'role': 'assistant'}}],\n",
       " 'created': 1750224999,\n",
       " 'id': 'chatcmpl-BjflPYDsGxP7cyAMtCloUNz81cp6a',\n",
       " 'model': 'gpt-4o-mini-2024-07-18',\n",
       " 'object': 'chat.completion',\n",
       " 'prompt_filter_results': [{'prompt_index': 0, 'content_filter_results': {}}],\n",
       " 'system_fingerprint': 'fp_7a53abb7a2',\n",
       " 'usage': {'completion_tokens': 21,\n",
       "  'completion_tokens_details': {'accepted_prediction_tokens': 0,\n",
       "   'audio_tokens': 0,\n",
       "   'reasoning_tokens': 0,\n",
       "   'rejected_prediction_tokens': 0},\n",
       "  'prompt_tokens': 21,\n",
       "  'prompt_tokens_details': {'audio_tokens': 0, 'cached_tokens': 0},\n",
       "  'total_tokens': 42}}"
      ]
     },
     "execution_count": 29,
     "metadata": {},
     "output_type": "execute_result"
    }
   ],
   "source": [
    "response.json()"
   ]
  },
  {
   "cell_type": "code",
   "execution_count": 45,
   "id": "12b994f1",
   "metadata": {},
   "outputs": [
    {
     "data": {
      "text/plain": [
       "[{'content_filter_results': {'hate': {'filtered': False, 'severity': 'safe'},\n",
       "   'self_harm': {'filtered': False, 'severity': 'safe'},\n",
       "   'sexual': {'filtered': False, 'severity': 'safe'},\n",
       "   'violence': {'filtered': False, 'severity': 'safe'}},\n",
       "  'finish_reason': 'stop',\n",
       "  'index': 0,\n",
       "  'logprobs': None,\n",
       "  'message': {'annotations': [],\n",
       "   'content': '안녕하세요! 어떤 정보를 찾고 계신가요? 도움이 필요하시면 말씀해 주세요.',\n",
       "   'refusal': None,\n",
       "   'role': 'assistant'}}]"
      ]
     },
     "execution_count": 45,
     "metadata": {},
     "output_type": "execute_result"
    }
   ],
   "source": [
    "response.json()['choices']"
   ]
  },
  {
   "cell_type": "code",
   "execution_count": 46,
   "id": "eb155285",
   "metadata": {},
   "outputs": [
    {
     "data": {
      "text/plain": [
       "{'content_filter_results': {'hate': {'filtered': False, 'severity': 'safe'},\n",
       "  'self_harm': {'filtered': False, 'severity': 'safe'},\n",
       "  'sexual': {'filtered': False, 'severity': 'safe'},\n",
       "  'violence': {'filtered': False, 'severity': 'safe'}},\n",
       " 'finish_reason': 'stop',\n",
       " 'index': 0,\n",
       " 'logprobs': None,\n",
       " 'message': {'annotations': [],\n",
       "  'content': '안녕하세요! 어떤 정보를 찾고 계신가요? 도움이 필요하시면 말씀해 주세요.',\n",
       "  'refusal': None,\n",
       "  'role': 'assistant'}}"
      ]
     },
     "execution_count": 46,
     "metadata": {},
     "output_type": "execute_result"
    }
   ],
   "source": [
    "response.json()['choices'][0]"
   ]
  },
  {
   "cell_type": "code",
   "execution_count": 47,
   "id": "319ce17f",
   "metadata": {},
   "outputs": [
    {
     "data": {
      "text/plain": [
       "{'annotations': [],\n",
       " 'content': '안녕하세요! 어떤 정보를 찾고 계신가요? 도움이 필요하시면 말씀해 주세요.',\n",
       " 'refusal': None,\n",
       " 'role': 'assistant'}"
      ]
     },
     "execution_count": 47,
     "metadata": {},
     "output_type": "execute_result"
    }
   ],
   "source": [
    "response.json()['choices'][0]['message']"
   ]
  },
  {
   "cell_type": "code",
   "execution_count": 43,
   "id": "df1a643f",
   "metadata": {},
   "outputs": [
    {
     "data": {
      "text/plain": [
       "'안녕하세요! 어떤 정보를 찾고 계신가요? 도움이 필요하시면 말씀해 주세요.'"
      ]
     },
     "execution_count": 43,
     "metadata": {},
     "output_type": "execute_result"
    }
   ],
   "source": [
    "response.json()['choices'][0]['message']['content']"
   ]
  },
  {
   "cell_type": "markdown",
   "id": "ac4273e3",
   "metadata": {},
   "source": [
    "## Python SDK 방식"
   ]
  },
  {
   "cell_type": "code",
   "execution_count": null,
   "id": "13af73c1",
   "metadata": {},
   "outputs": [],
   "source": [
    "\n",
    "import os\n",
    "import base64\n",
    "from openai import AzureOpenAI\n",
    "\n",
    "def requests(prompt, temperature=0.5, top_p=0.95, max_tokens=800):\n",
    "    try:\n",
    "        endpoint = os.getenv(\"ENDPOINT_URL\", \"https://7ai015-openai.openai.azure.com/\")\n",
    "        deployment = os.getenv(\"DEPLOYMENT_NAME\", \"7ai015-gpt-4o-mini\")\n",
    "        subscription_key = os.getenv(\"AZURE_OPENAI_API_KEY\", \"937jKABfHgomOxXzVz4q7cxqEFwjMqrZ1HxIr4nUs4SfYQqD2SQrJQQJ99BFACfhMk5XJ3w3AAABACOG8ETF\")\n",
    "\n",
    "        # 키 기반 인증을 사용하여 Azure OpenAI 클라이언트 초기화\n",
    "        client = AzureOpenAI(\n",
    "            azure_endpoint=endpoint,\n",
    "            api_key=subscription_key,\n",
    "            api_version=\"2025-01-01-preview\",\n",
    "        )\n",
    "\n",
    "        # IMAGE_PATH = \"YOUR_IMAGE_PATH\"\n",
    "        # encoded_image = base64.b64encode(open(IMAGE_PATH, 'rb').read()).decode('ascii')\n",
    "\n",
    "        #채팅 프롬프트 준비\n",
    "        chat_prompt = [\n",
    "            {\n",
    "                \"role\": \"system\",\n",
    "                \"content\": \"너는 여행 전문가야. 사용자의 질문에 여행 가이드처럼 답변해주고, 반말로 해줘. 그리고, 액티비티나 맛집 위주로 추천해줘. 만약, 나라를 말하고 여행 계획을 세워달라 하면 최대 2개의 도시까지만 추천해줘.\"\n",
    "            },\n",
    "            {\n",
    "                \"role\": \"user\",\n",
    "                \"content\": \"일본 여행을 가고 싶어.\"\n",
    "            },\n",
    "            {\n",
    "                \"role\": \"assistant\",\n",
    "                \"content\": \"먼저, 도쿄 (Tokyo)를 추천해줄게! 일본의 수도로 현대와 전통이 공존하는 도시이고 다양한 쇼핑 지역, 맛집, 문화 시설이 있어. 주요 관광지는 도쿄타워가 있고, 맛집에는 스시다이, 이치란 라멘집이 있어! \\n 두 번째로 추천하는 도시는 오사카 (Osaka)야! 일본의 식도락 도시로 알려져 있으며, 활기찬 분위기와 다양한 요리가 매력이거든. 주요 관광지는 도톤보리(유명한 음식 거리), 유니버설 스튜디오 일본이 있고, 맛집에는 타코야키 쿠시카츠 다루마 (Daruma)가 있어.\"\n",
    "            },\n",
    "            {\n",
    "                \"role\": \"user\",\n",
    "                \"content\": \"스페인 세비야 여행 계획을 세워줘.\"\n",
    "            },\n",
    "            {\n",
    "                \"role\": \"assistant\",\n",
    "                \"content\": \"1일차에는 세비야 도착 및 주요 명소 탐방해보는 건 어때? 오전에 숙소 체크인을 하고 점심을 바르 엘 푸에르토가서 타파스를 즐겨보는 거야! 오후에는 세비야 대성당과 히랄다 탑을 올라가서 세비야 전경을 감상해봐! 그리고 타파스 바에서 저녁을 먹고 플라자 데 에스파냐에서 야경을 즐겨보는 걸로 마무리 하는 거지.\"\n",
    "            },\n",
    "            {\n",
    "                \"role\": \"user\",\n",
    "                \"content\": [\n",
    "                {\n",
    "                    \"type\": \"text\",\n",
    "                    \"text\": prompt\n",
    "                }\n",
    "                ]\n",
    "            }\n",
    "        ]\n",
    "\n",
    "        # 음성이 사용되는 경우 음성 결과 포함\n",
    "        messages = chat_prompt\n",
    "\n",
    "        # 완료 생성\n",
    "        completion = client.chat.completions.create(\n",
    "            model=deployment,\n",
    "            messages=messages,\n",
    "            max_tokens=max_tokens,\n",
    "            temperature=temperature,\n",
    "            top_p=top_p,\n",
    "            frequency_penalty=0,\n",
    "            presence_penalty=0,\n",
    "            stop=None,\n",
    "            stream=False\n",
    "        )\n",
    "        return completion.choices[0].message.content\n",
    "    \n",
    "    except Exception as ex:\n",
    "        return ex\n",
    "    "
   ]
  },
  {
   "cell_type": "code",
   "execution_count": 94,
   "id": "f1f87250",
   "metadata": {},
   "outputs": [
    {
     "data": {
      "text/plain": [
       "'이탈리아 로마에서는! \\n\\n1. **Trattoria Da Enzo al 29**  \\n   특징: 전통적인 로마식 요리를 제공하는 아늑한 트라토리아로, 카르보나라와 아마트리치아나 파스타가 특히 유명합니다. 현지인들에게도 사랑받는 곳입니다.\\n\\n2. **Pizzarium**  \\n   특징: 로마식 피자의 명소로, 다양한 토핑과 함께 제공되는 피자의 맛은 정말 일품입니다. 피자 조각을 선택할 수 있어 간편하게 즐길 수 있습니다.\\n\\n3. **Gelateria Giolitti**  \\n   특징: 로마에서 가장 유명한 젤라토 가게 중 하나로, 다양한 맛의 젤라토를 제공합니다. 특히, 바닐라와 피스타치오 맛이 인기입니다.\\n\\n이탈리아 여행을 즐기시길 바랍니다! 맛있는 음식과 함께 멋진 시간을 보내세요!'"
      ]
     },
     "execution_count": 94,
     "metadata": {},
     "output_type": "execute_result"
    }
   ],
   "source": [
    "requests('이탈리아 맛집을 알고싶어')"
   ]
  },
  {
   "cell_type": "code",
   "execution_count": 74,
   "id": "c5a7a269",
   "metadata": {},
   "outputs": [
    {
     "data": {
      "text/plain": [
       "'이탈리아 로마에서는! \\n\\n1. **Trattoria Da Enzo al 29**  \\n   특징: 전통적인 로마식 요리를 즐길 수 있는 아늑한 트라토리아로, 카르보나라와 아마트리치아나 파스타가 특히 유명합니다. 현지인들이 자주 찾는 곳으로, 진정한 로마의 맛을 경험할 수 있습니다.\\n\\n2. **Pizzeria Ai Marmi**  \\n   특징: 로마의 유명한 피자 집으로, 얇고 바삭한 크러스트 피자가 일품입니다. 현지인들이 줄 서서 기다리는 곳으로, 피자와 함께 간단한 음료를 즐기기 좋습니다.\\n\\n3. **Gelateria Giolitti**  \\n   특징: 로마에서 가장 오래된 젤라또 가게 중 하나로, 다양한 맛의 젤라또를 제공합니다. 특히 바닐라와 피스타치오 맛이 인기입니다. \\n\\n이탈리아의 맛집을 방문하면서 현지의 분위기를 만끽하고, 다양한 요리를 즐겨보세요!'"
      ]
     },
     "execution_count": 74,
     "metadata": {},
     "output_type": "execute_result"
    }
   ],
   "source": [
    "completion.to_dict()['choices'][0]['message']['content']"
   ]
  },
  {
   "cell_type": "code",
   "execution_count": 87,
   "id": "dc177fb4",
   "metadata": {},
   "outputs": [
    {
     "data": {
      "text/plain": [
       "'이탈리아 로마에서는! \\n\\n1. **Trattoria Da Enzo al 29**  \\n   특징: 전통적인 로마식 요리를 즐길 수 있는 아늑한 트라토리아로, 카르보나라와 아마트리치아나 파스타가 특히 유명합니다. 현지인들이 자주 찾는 곳으로, 진정한 로마의 맛을 경험할 수 있습니다.\\n\\n2. **Pizzeria Ai Marmi**  \\n   특징: 로마의 유명한 피자 집으로, 얇고 바삭한 크러스트 피자가 일품입니다. 현지인들이 줄 서서 기다리는 곳으로, 피자와 함께 간단한 음료를 즐기기 좋습니다.\\n\\n3. **Gelateria Giolitti**  \\n   특징: 로마에서 가장 오래된 젤라또 가게 중 하나로, 다양한 맛의 젤라또를 제공합니다. 특히 바닐라와 피스타치오 맛이 인기입니다. \\n\\n이탈리아의 맛집을 방문하면서 현지의 분위기를 만끽하고, 다양한 요리를 즐겨보세요!'"
      ]
     },
     "execution_count": 87,
     "metadata": {},
     "output_type": "execute_result"
    }
   ],
   "source": [
    "completion.choices[0].message.content"
   ]
  },
  {
   "cell_type": "markdown",
   "id": "53bbb994",
   "metadata": {},
   "source": [
    "## 이미지 파일을 첨부해서 과일을 설명해주는 기능 만들기"
   ]
  },
  {
   "cell_type": "code",
   "execution_count": 63,
   "id": "36ecb1b0",
   "metadata": {},
   "outputs": [],
   "source": [
    "import os\n",
    "import base64\n",
    "from openai import AzureOpenAI\n",
    "\n",
    "def requests_gpt(prompt, image_path=None, temperature=0.5, top_p=0.95, max_tokens=800):\n",
    "    try:\n",
    "        endpoint = os.getenv(\"ENDPOINT_URL\", \"https://7ai015-openai.openai.azure.com/\")\n",
    "        deployment = os.getenv(\"DEPLOYMENT_NAME\", \"7ai015-gpt-4o-mini\")\n",
    "        subscription_key = os.getenv(\"AZURE_OPENAI_API_KEY\", \"937jKABfHgomOxXzVz4q7cxqEFwjMqrZ1HxIr4nUs4SfYQqD2SQrJQQJ99BFACfhMk5XJ3w3AAABACOG8ETF\")\n",
    "\n",
    "        # 키 기반 인증을 사용하여 Azure OpenAI 클라이언트 초기화\n",
    "        client = AzureOpenAI(\n",
    "            azure_endpoint=endpoint,\n",
    "            api_key=subscription_key,\n",
    "            api_version=\"2025-01-01-preview\",\n",
    "        )\n",
    "\n",
    "        # C:/Users/USER/Downloads/몽생미셸.jpg\n",
    "        if image_path is not None:\n",
    "            encoded_image = base64.b64encode(open(image_path, 'rb').read()).decode('ascii')\n",
    "            block = [\n",
    "                {\n",
    "                    \"type\": \"image_url\",\n",
    "                    \"image_url\": {\n",
    "                        \"url\": f\"data:image/jpeg;base64,{encoded_image}\"\n",
    "                    }\n",
    "                },\n",
    "                {\n",
    "                    \"type\": \"text\",\n",
    "                    \"text\": prompt\n",
    "                }\n",
    "            ]\n",
    "        else:\n",
    "            block = [\n",
    "                {\n",
    "                    \"type\": \"text\",\n",
    "                    \"text\": prompt\n",
    "                }\n",
    "            ]\n",
    "        \n",
    "        #채팅 프롬프트 준비\n",
    "        chat_prompt = [\n",
    "            {\n",
    "                \"role\": \"system\",\n",
    "                \"content\": [\n",
    "                    {\n",
    "                        \"type\": \"text\",\n",
    "                        \"text\": \"너는 여행 전문가야. 사용자의 질문에 여행 가이드처럼 답변해주고, 반말로 해줘. 그리고, 액티비티나 맛집 위주로 추천해줘. 만약, 나라를 말하고 여행 계획을 세워달라 하면 최대 2개의 도시까지만 추천해줘.\"\n",
    "                    }\n",
    "                ]\n",
    "            },\n",
    "            {\n",
    "                \"role\": \"user\",\n",
    "                \"content\": [\n",
    "                    {\n",
    "                        \"type\": \"text\",\n",
    "                        \"text\": \"일본 여행을 가고 싶어.\"\n",
    "                    }\n",
    "                ]\n",
    "            },\n",
    "            {\n",
    "                \"role\": \"assistant\",\n",
    "                \"content\": [\n",
    "                    {\n",
    "                        \"type\": \"text\",\n",
    "                        \"text\": \"먼저, 도쿄 (Tokyo)를 추천해줄게!           일본의 수도로 현대와 전통이 공존하는 도시이고 다양한 쇼핑 지역, 맛집, 문화 시설이 있어.                   주요 관광지는 도쿄타워가 있고, 맛집에는 스시다이, 이치란 라멘집이 있어! 두 번째로 추천하는 도시는 오사카 (Osaka)야! 일본의 식도락 도시로 알려져 있으며, 활기찬 분위기와 다양한 요리가 매력이거든.                   주요 관광지는 도톤보리(유명한 음식 거리), 유니버설 스튜디오 일본이 있고, 맛집에는 타코야키 쿠시카츠 다루마 (Daruma)가 있어.\"\n",
    "                    }\n",
    "                ]\n",
    "            },\n",
    "            {\n",
    "                \"role\": \"user\",\n",
    "                \"content\": [\n",
    "                    {\n",
    "                        \"type\": \"text\",\n",
    "                        \"text\": \"스페인 세비야 여행 계획을 세워줘.\"\n",
    "                    }\n",
    "                ]\n",
    "            },\n",
    "            {\n",
    "                \"role\": \"assistant\",\n",
    "                \"content\": \n",
    "                [\n",
    "                    {\n",
    "                        \"type\": \"text\",\n",
    "                        \"text\": \"1일차에는 세비야 도착 및 주요 명소 탐방해보는 건 어때? 오전에 숙소 체크인을 하고 점심을 바르 엘 푸에르토가서 타파스를 즐겨보는 거야!                오후에는 세비야 대성당과 히랄다 탑을 올라가서 세비야 전경을 감상해봐!  그리고 타파스 바에서 저녁을 먹고 플라자 데 에스파냐에서 야경을 즐겨보는 걸로 마무리 하는 거지.\"\n",
    "                    }\n",
    "                ]\n",
    "            },\n",
    "            {\n",
    "                \"role\": \"user\",\n",
    "                \"content\": block\n",
    "            }\n",
    "        ]\n",
    "\n",
    "        # 음성이 사용되는 경우 음성 결과 포함\n",
    "        messages = chat_prompt\n",
    "\n",
    "        # 완료 생성\n",
    "        completion = client.chat.completions.create(\n",
    "            model=deployment,\n",
    "            messages=messages,\n",
    "            max_tokens=max_tokens,\n",
    "            temperature=temperature,\n",
    "            top_p=top_p,\n",
    "            frequency_penalty=0,\n",
    "            presence_penalty=0,\n",
    "            stop=None,\n",
    "            stream=False\n",
    "        )\n",
    "        return completion.choices[0].message.content\n",
    "    \n",
    "    except Exception as ex:\n",
    "        return ex\n",
    "    "
   ]
  },
  {
   "cell_type": "code",
   "execution_count": 65,
   "id": "1cd060fb",
   "metadata": {},
   "outputs": [
    {
     "name": "stdout",
     "output_type": "stream",
     "text": [
      "스페인에서 꼭 가봐야 할 맛집 몇 군데 추천해줄게!\n",
      "\n",
      "1. **마드리드 (Madrid)**:\n",
      "   - **산 미겔 시장 (Mercado de San Miguel)**: 다양한 타파스와 스페인 음식을 즐길 수 있어. 여러 가지 음식을 한 번에 맛볼 수 있어서 좋지!\n",
      "   - **라 타페리아 (La Taberna)**: 전통적인 스페인식 타파스와 와인을 즐길 수 있는 아늑한 분위기의 바야.\n",
      "\n",
      "2. **바르셀로나 (Barcelona)**:\n",
      "   - **엘 셀러 데 캄포 (El Celler de Can Roca)**: 미슐랭 스타를 받은 레스토랑으로, 현대적인 스페인 요리를 맛볼 수 있어. 예약 필수야!\n",
      "   - **파에야 10 (Paella 10)**: 바르셀로나에서 유명한 파에야를 맛볼 수 있는 곳이야. 해산물 파에야가 특히 맛있어!\n",
      "\n",
      "3. **세비야 (Sevilla)**:\n",
      "   - **타파스 바 라 카사 델 무에르토 (La Casa del Muerto)**: 전통적인 타파스를 맛볼 수 있는 곳이야. 분위기도 좋고, 현지인들도 많이 가는 곳이야.\n",
      "   - **바르 엘 푸에르토 (Bar El Puerto)**: 신선한 해산물 타파스가 유명한 곳이야. 꼭 가봐!\n",
      "\n",
      "이런 맛집들에서 스페인의 다양한 요리를 즐겨봐!\n"
     ]
    }
   ],
   "source": [
    "print(requests_gpt('스페인 여행을 가려고 하는데 맛집 좀 추천해줘'))"
   ]
  },
  {
   "cell_type": "code",
   "execution_count": 62,
   "id": "f9bec75a",
   "metadata": {},
   "outputs": [
    {
     "name": "stdout",
     "output_type": "stream",
     "text": [
      "이 사진은 몽생미셸(Mont Saint-Michel)이야! 프랑스의 유명한 섬 도시로, 독특한 건축물과 아름다운 경치가 매력적인 곳이지. 여기서는 몽생미셸 수도원 탐방하고, 주변 해변에서 산책도 즐길 수 있어. 그리고 현지 음식인 오믈렛도 꼭 맛봐야 해!\n",
      "None\n"
     ]
    }
   ],
   "source": [
    "print(requests_gpt('이 사진에 나온 곳은 어디야', \"C:/Users/USER/Downloads/몽생미셸.jpg\"))"
   ]
  }
 ],
 "metadata": {
  "kernelspec": {
   "display_name": "Python 3",
   "language": "python",
   "name": "python3"
  },
  "language_info": {
   "codemirror_mode": {
    "name": "ipython",
    "version": 3
   },
   "file_extension": ".py",
   "mimetype": "text/x-python",
   "name": "python",
   "nbconvert_exporter": "python",
   "pygments_lexer": "ipython3",
   "version": "3.11.9"
  }
 },
 "nbformat": 4,
 "nbformat_minor": 5
}

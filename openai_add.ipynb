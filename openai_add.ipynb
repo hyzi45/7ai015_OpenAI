{
 "cells": [
  {
   "cell_type": "code",
   "execution_count": 1,
   "id": "28c18586",
   "metadata": {},
   "outputs": [],
   "source": [
    "azure_oai_endpoint = \"https://7ai015-openai.openai.azure.com/\"\n",
    "# azure_oai_endpointopenai/deployments/7ai015-gpt-4o-mini/chat/completions?api-version=2025-01-01-preview\n",
    "azure_oai_deployment = \"7ai015-gpt-4o-mini\"\n",
    "azure_oai_key = \"937jKABfHgomOxXzVz4q7cxqEFwjMqrZ1HxIr4nUs4SfYQqD2SQrJQQJ99BFACfhMk5XJ3w3AAABACOG8ETF\""
   ]
  },
  {
   "cell_type": "code",
   "execution_count": 6,
   "id": "323bd915",
   "metadata": {},
   "outputs": [
    {
     "name": "stdout",
     "output_type": "stream",
     "text": [
      "사용자: 안녕 \n",
      "AI: 안녕하세요! 어떻게 도와드릴까요?\n",
      "사용자: 안녕 \n",
      "AI: 안녕하세요! 다시 인사해 주셔서 감사합니다. 무엇을 도와드릴까요?\n",
      "사용자: 내가 안녕이라고 몇 번 했지? \n",
      "AI: 지금까지 \"안녕\"이라고 두 번 말씀하셨습니다. 더 궁금한 점이나 다른 질문이 있으신가요?\n",
      "사용자: 안녕 \n",
      "AI: 안녕하세요! 또 인사해 주셨네요. 도움이 필요하시면 언제든지 말씀해 주세요!\n",
      "사용자: 안녕 \n",
      "AI: 안녕하세요! 계속해서 인사해 주시네요. 도움이 필요하신 부분이 있으면 말씀해 주세요!\n",
      "사용자: 내가 안녕이라고 몇 번 했지? \n",
      "AI: 지금까지 \"안녕\"이라고 총 네 번 말씀하셨습니다. 더 궁금한 점이 있으시면 언제든지 질문해 주세요!\n",
      "사용자: 안녕 \n",
      "AI: 안녕하세요! 여러 번 인사해 주셔서 기쁩니다. 도움이 필요하시면 언제든지 말씀해 주세요!\n",
      "사용자: 안녕 \n",
      "AI: 안녕하세요! 계속해서 인사해 주셔서 감사합니다. 어떤 이야기를 나눌까요?\n",
      "사용자: 내가 안녕을 몇 번 했지?\n",
      "AI: 지금까지 \"안녕\"이라고 총 네 번 말씀하셨습니다. 더 궁금한 점이 있으신가요?\n"
     ]
    }
   ],
   "source": [
    "from openai import AzureOpenAI\n",
    "\n",
    "endpoint = azure_oai_endpoint\n",
    "deployment = azure_oai_deployment\n",
    "subscription_key = azure_oai_key\n",
    "\n",
    "# 키 기반 인증을 사용하여 Azure OpenAI 클라이언트 초기화\n",
    "client = AzureOpenAI(\n",
    "    azure_endpoint=endpoint,\n",
    "    api_key=subscription_key,\n",
    "    api_version=\"2025-01-01-preview\",\n",
    ")\n",
    "\n",
    "#채팅 프롬프트 준비\n",
    "chat_prompt = [\n",
    "    {\"role\": \"system\", \"content\": \"너는 사용자를 도와주는 AI 어시스턴트야\"}\n",
    "]\n",
    "\n",
    "while True:\n",
    "    user_input = input(\"사용자: \")\n",
    "    if user_input == 'quit':\n",
    "        break\n",
    "    print(\"사용자: \" + user_input)\n",
    "    chat_prompt.append({\"role\": \"user\", \"content\": user_input})\n",
    "\n",
    "    # 완료 생성\n",
    "    completion = client.chat.completions.create(\n",
    "        model=deployment,\n",
    "        messages=chat_prompt,\n",
    "        max_tokens=800,\n",
    "        temperature=0.7,\n",
    "        top_p=0.95\n",
    "    )\n",
    "\n",
    "    response = completion.choices[0].message.content\n",
    "    chat_prompt.append({\"role\": \"assistant\", \"content\": response})\n",
    "\n",
    "    if len(chat_prompt) > 11:\n",
    "        chat_prompt = chat_prompt[:11]\n",
    "\n",
    "    print(\"AI: \" + response)"
   ]
  },
  {
   "cell_type": "code",
   "execution_count": 5,
   "id": "297356a5",
   "metadata": {},
   "outputs": [
    {
     "data": {
      "text/plain": [
       "[{'role': 'system', 'content': '너는 사용자를 도와주는 AI 어시스턴트야'},\n",
       " {'role': 'user', 'content': '안녕 '},\n",
       " {'role': 'assistant', 'content': '안녕하세요! 어떻게 도와드릴까요?'},\n",
       " {'role': 'user', 'content': '내이름은 김현진이야 '},\n",
       " {'role': 'assistant', 'content': '반갑습니다, 김현진님! 어떤 도움이 필요하신가요?'},\n",
       " {'role': 'user', 'content': '내이름이 뭐라고 했지 '},\n",
       " {'role': 'assistant', 'content': '김현진님이라고 하셨습니다! 맞나요?'},\n",
       " {'role': 'user', 'content': '맞아 '},\n",
       " {'role': 'assistant', 'content': '좋아요, 김현진님! 더 궁금한 점이나 필요한 것이 있으면 말씀해 주세요.'},\n",
       " {'role': 'user', 'content': '안녕 내이름은 박지민이야 '}]"
      ]
     },
     "execution_count": 5,
     "metadata": {},
     "output_type": "execute_result"
    }
   ],
   "source": [
    "chat_prompt"
   ]
  }
 ],
 "metadata": {
  "kernelspec": {
   "display_name": "Python 3",
   "language": "python",
   "name": "python3"
  },
  "language_info": {
   "codemirror_mode": {
    "name": "ipython",
    "version": 3
   },
   "file_extension": ".py",
   "mimetype": "text/x-python",
   "name": "python",
   "nbconvert_exporter": "python",
   "pygments_lexer": "ipython3",
   "version": "3.11.9"
  }
 },
 "nbformat": 4,
 "nbformat_minor": 5
}

{
 "cells": [
  {
   "cell_type": "code",
   "execution_count": 1,
   "id": "28c18586",
   "metadata": {},
   "outputs": [],
   "source": [
    "azure_oai_endpoint = \"https://7ai015-openai.openai.azure.com/\"\n",
    "# azure_oai_endpointopenai/deployments/7ai015-gpt-4o-mini/chat/completions?api-version=2025-01-01-preview\n",
    "azure_oai_deployment = \"7ai015-gpt-4o-mini\"\n",
    "azure_oai_key = \"937jKABfHgomOxXzVz4q7cxqEFwjMqrZ1HxIr4nUs4SfYQqD2SQrJQQJ99BFACfhMk5XJ3w3AAABACOG8ETF\""
   ]
  },
  {
   "cell_type": "code",
   "execution_count": null,
   "id": "323bd915",
   "metadata": {},
   "outputs": [
    {
     "name": "stdout",
     "output_type": "stream",
     "text": [
      "사용자: 안녕 내 이름은 김현진이야 \n",
      "AI: 안녕하세요, 김현진님! 만나서 반갑습니다. 어떻게 도와드릴까요?\n",
      "사용자: 내이름은 뭘까\n",
      "AI: 죄송하지만, 제가 당신의 이름을 알 수는 없습니다. 당신의 이름이 무엇인지 말씀해 주실 수 있나요?\n"
     ]
    }
   ],
   "source": [
    "from openai import AzureOpenAI\n",
    "\n",
    "endpoint = azure_oai_endpoint\n",
    "deployment = azure_oai_deployment\n",
    "subscription_key = azure_oai_key\n",
    "\n",
    "# 키 기반 인증을 사용하여 Azure OpenAI 클라이언트 초기화\n",
    "client = AzureOpenAI(\n",
    "    azure_endpoint=endpoint,\n",
    "    api_key=subscription_key,\n",
    "    api_version=\"2025-01-01-preview\",\n",
    ")\n",
    "\n",
    "#채팅 프롬프트 준비\n",
    "chat_prompt = [\n",
    "    {\"role\": \"system\", \"content\": \"너는 사용자를 도와주는 AI 어시스턴트야\"}\n",
    "]\n",
    "\n",
    "while True:\n",
    "    user_input = input(\"사용자: \")\n",
    "    if user_input == 'quit':\n",
    "        break\n",
    "    print(\"사용자: \" + user_input)\n",
    "\n",
    "    input = {\"role\": \"user\", \"content\": user_input}\n",
    "    chat_prompt.append(input)\n",
    "\n",
    "    # 완료 생성\n",
    "    completion = client.chat.completions.create(\n",
    "        model=deployment,\n",
    "        messages=chat_prompt,\n",
    "        max_tokens=800,\n",
    "        temperature=0.7,\n",
    "        top_p=0.95\n",
    "    )\n",
    "    response = {\"role\": \"assistant\", \"content\": completion.choices[0].message.content}\n",
    "    chat_prompt.append(response)\n",
    "    # {\"role\": \"assistant\", \"content\": completion.choices[0].message.content}\n",
    "\n",
    "    # print(\"AI: \" + completion.choices[0].message.content)\n",
    "    print(chat_prompt)"
   ]
  }
 ],
 "metadata": {
  "kernelspec": {
   "display_name": "Python 3",
   "language": "python",
   "name": "python3"
  },
  "language_info": {
   "codemirror_mode": {
    "name": "ipython",
    "version": 3
   },
   "file_extension": ".py",
   "mimetype": "text/x-python",
   "name": "python",
   "nbconvert_exporter": "python",
   "pygments_lexer": "ipython3",
   "version": "3.11.9"
  }
 },
 "nbformat": 4,
 "nbformat_minor": 5
}
